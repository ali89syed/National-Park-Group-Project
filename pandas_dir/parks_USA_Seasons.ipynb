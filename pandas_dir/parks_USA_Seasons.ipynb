{
 "cells": [
  {
   "cell_type": "code",
   "execution_count": 59,
   "metadata": {
    "scrolled": true
   },
   "outputs": [],
   "source": [
    "# Dependencies and Setup\n",
    "%matplotlib inline\n",
    "import matplotlib.pyplot as plt\n",
    "import pandas as pd\n",
    "import numpy as np\n",
    "import csv\n",
    "\n",
    "# Hide warning messages in notebook\n",
    "import warnings\n",
    "warnings.filterwarnings('ignore')\n",
    "\n",
    "# Read individual CSV files \n",
    "national_parks_usa_WINTER_to_load = \"/Users/bunni/Desktop/national_parks/parks/csv_dir/top10parks_by_Winter_1.csv\"\n",
    "national_parks_usa_SPRING_to_load = \"/Users/bunni/Desktop/national_parks/parks/csv_dir/top10parks_by-season_spring_1.csv\"\n",
    "national_parks_usa_SUMMER_to_load = \"/Users/bunni/Desktop/national_parks/parks/csv_dir/top10parks_by-season_summer_1.csv\"\n",
    "national_parks_usa_FALL_to_load = \"/Users/bunni/Desktop/national_parks/parks/csv_dir/top10parks_by_Fall_1.csv\" \n",
    "\n",
    "\n",
    "# Create individual Data Frame\n",
    "national_parks_usa_WINTER = pd.read_csv(national_parks_usa_WINTER_to_load,keep_default_na=False, na_values=[\"\"])\n",
    "national_parks_usa_SPRING = pd.read_csv(national_parks_usa_SPRING_to_load,keep_default_na=False, na_values=[\"\"])\n",
    "national_parks_usa_SUMMER = pd.read_csv(national_parks_usa_SUMMER_to_load,keep_default_na=False, na_values=[\"\"])\n",
    "national_parks_usa_FALL = pd.read_csv(national_parks_usa_FALL_to_load,keep_default_na=False, na_values=[\"\"])\n",
    "\n",
    "# # This is a very important step, DO NOT SKIP .\n",
    "# Second_df_to_append = national_parks_usa_SPRING.reset_index()\n",
    "# Second_df_set2_append = national_parks_usa_FALL.reset_index()"
   ]
  },
  {
   "cell_type": "code",
   "execution_count": 60,
   "metadata": {
    "scrolled": false
   },
   "outputs": [],
   "source": [
    "# # concatinate two Data frames . DO vertical Stacking . Make sure the columns are same . \n",
    "# Winter_Spring_Parks_collections_df = pd.concat([national_parks_usa_WINTER,Second_df_to_append ], axis=0)\n",
    "# Summer_Fall_Parks_collections_df = pd.concat([national_parks_usa_SUMMER,Second_df_set2_append ], axis=0) "
   ]
  },
  {
   "cell_type": "code",
   "execution_count": 57,
   "metadata": {
    "scrolled": false
   },
   "outputs": [],
   "source": [
    "#Winter_Spring_Parks_collections_df\n",
    "#Summer_Fall_Parks_collections_df"
   ]
  },
  {
   "cell_type": "code",
   "execution_count": 58,
   "metadata": {
    "scrolled": false
   },
   "outputs": [],
   "source": [
    "#print (Winter_Spring_Parks_collections_df)"
   ]
  },
  {
   "cell_type": "code",
   "execution_count": 1,
   "metadata": {
    "scrolled": false
   },
   "outputs": [],
   "source": [
    "#Summer_Fall_Parks_collections_df"
   ]
  },
  {
   "cell_type": "code",
   "execution_count": null,
   "metadata": {},
   "outputs": [],
   "source": []
  },
  {
   "cell_type": "code",
   "execution_count": null,
   "metadata": {},
   "outputs": [],
   "source": []
  },
  {
   "cell_type": "code",
   "execution_count": null,
   "metadata": {},
   "outputs": [],
   "source": []
  }
 ],
 "metadata": {
  "kernelspec": {
   "display_name": "Python 3",
   "language": "python",
   "name": "python3"
  },
  "language_info": {
   "codemirror_mode": {
    "name": "ipython",
    "version": 3
   },
   "file_extension": ".py",
   "mimetype": "text/x-python",
   "name": "python",
   "nbconvert_exporter": "python",
   "pygments_lexer": "ipython3",
   "version": "3.6.5"
  }
 },
 "nbformat": 4,
 "nbformat_minor": 2
}
