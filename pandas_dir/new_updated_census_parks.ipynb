{
 "cells": [
  {
   "cell_type": "code",
   "execution_count": 125,
   "metadata": {
    "scrolled": true
   },
   "outputs": [],
   "source": [
    "# Dependencies and Setup\n",
    "%matplotlib inline\n",
    "import matplotlib.pyplot as plt\n",
    "import pandas as pd\n",
    "import numpy as np\n",
    "import csv\n",
    "import matplotlib.pyplot as plt\n",
    "import os\n",
    "\n",
    "# Hide warning messages in notebook\n",
    "import warnings\n",
    "warnings.filterwarnings('ignore')\n",
    "\n",
    "# Read individual CSV files \n",
    " \n",
    "StatePopulation_file = \"../csv_dir_correct/PopulationPerState.csv\"\n",
    "AgeRange_file = \"../csv_dir_correct/Age_Percentage.csv\"\n",
    "visitors_file = \"../csv_dir_correct/VisitationPerSeason.csv\"\n",
    "meanIncome_file = \"../csv_dir_correct/MeanIncomeByAgeAndRace.csv\"\n",
    "medIncome_file = \"/Users/bunni/Desktop/national_parks/parks/csv_dir_correct/MedianIncomeByAgeAndRace.csv\"\n",
    "States_tallied_Merged_visitors_file = \"../csv_dir_correct/States_tallied_Merged_visitors.csv\"\n",
    "\n",
    "\n",
    "StatePop_df = pd.read_csv(StatePopulation_file, keep_default_na=False, na_values=[\"\"])\n",
    "AgeRange_df = pd.read_csv(AgeRange_file, keep_default_na=False, na_values=[\"\"])\n",
    "Visitors_df = pd.read_csv(visitors_file, keep_default_na=False, na_values=[\"\"])\n",
    "meanInc_df = pd.read_csv(meanIncome_file, keep_default_na=False, na_values=[\"\"])\n",
    "medInc_df = pd.read_csv(medIncome_file, keep_default_na=False, na_values=[\"\"])\n",
    "## This was orginally written out of panda from source csvs : PopulationPerState.csv,VisitationPerSeason.csv\n",
    "States_tallied_Merged_visitors_df = pd.read_csv(States_tallied_Merged_visitors_file, keep_default_na=False, na_values=[\"\"])\n",
    "\n"
   ]
  },
  {
   "cell_type": "code",
   "execution_count": 126,
   "metadata": {
    "scrolled": false
   },
   "outputs": [
    {
     "data": {
      "text/plain": [
       "['Alaska',\n",
       " 'Arizona',\n",
       " 'California',\n",
       " 'Colorado',\n",
       " 'Maine',\n",
       " 'Oregon',\n",
       " 'Tennessee',\n",
       " 'Texas',\n",
       " 'Utah',\n",
       " 'Virginia',\n",
       " 'Washington',\n",
       " 'Wisconsin',\n",
       " 'Wyoming']"
      ]
     },
     "execution_count": 126,
     "metadata": {},
     "output_type": "execute_result"
    }
   ],
   "source": [
    "#print (Visitors_df.head(3))\n",
    "Visitors_df.shape\n",
    "# corrected the mistake in csv input file \n",
    "Visitors_df = Visitors_df.rename(columns={'Total':'Winter'})\n",
    "Visitors_df.head()\n",
    "Visitors_df.groupby(['State']).nunique()\n",
    "bins = ['Alaska','Arizona','California','Colorado','Maine','Oregon','Tennessee','Texas','Utah','Virginia','Washington','Wisconsin','Wyoming']\n",
    "bins\n"
   ]
  },
  {
   "cell_type": "code",
   "execution_count": 127,
   "metadata": {
    "scrolled": true
   },
   "outputs": [
    {
     "data": {
      "text/html": [
       "<div>\n",
       "<style scoped>\n",
       "    .dataframe tbody tr th:only-of-type {\n",
       "        vertical-align: middle;\n",
       "    }\n",
       "\n",
       "    .dataframe tbody tr th {\n",
       "        vertical-align: top;\n",
       "    }\n",
       "\n",
       "    .dataframe thead th {\n",
       "        text-align: right;\n",
       "    }\n",
       "</style>\n",
       "<table border=\"1\" class=\"dataframe\">\n",
       "  <thead>\n",
       "    <tr style=\"text-align: right;\">\n",
       "      <th></th>\n",
       "      <th>Unnamed: 0</th>\n",
       "      <th>Park</th>\n",
       "      <th>State</th>\n",
       "      <th>Spring</th>\n",
       "      <th>Summer</th>\n",
       "      <th>Fall</th>\n",
       "      <th>Winter</th>\n",
       "      <th>State_p</th>\n",
       "      <th>Population</th>\n",
       "    </tr>\n",
       "  </thead>\n",
       "  <tbody>\n",
       "    <tr>\n",
       "      <th>0</th>\n",
       "      <td>0</td>\n",
       "      <td>Acadia</td>\n",
       "      <td>Maine</td>\n",
       "      <td>54212</td>\n",
       "      <td>264288</td>\n",
       "      <td>157764</td>\n",
       "      <td>491360</td>\n",
       "      <td>Maine</td>\n",
       "      <td>1336000</td>\n",
       "    </tr>\n",
       "    <tr>\n",
       "      <th>1</th>\n",
       "      <td>1</td>\n",
       "      <td>Apostle Islands</td>\n",
       "      <td>Wisconsin</td>\n",
       "      <td>5779</td>\n",
       "      <td>24752</td>\n",
       "      <td>12170</td>\n",
       "      <td>45540</td>\n",
       "      <td>Wisconsin</td>\n",
       "      <td>5795000</td>\n",
       "    </tr>\n",
       "    <tr>\n",
       "      <th>2</th>\n",
       "      <td>2</td>\n",
       "      <td>Arches</td>\n",
       "      <td>Utah</td>\n",
       "      <td>172387</td>\n",
       "      <td>202429</td>\n",
       "      <td>151742</td>\n",
       "      <td>569658</td>\n",
       "      <td>Utah</td>\n",
       "      <td>3102000</td>\n",
       "    </tr>\n",
       "    <tr>\n",
       "      <th>3</th>\n",
       "      <td>3</td>\n",
       "      <td>Big Bend</td>\n",
       "      <td>Texas</td>\n",
       "      <td>56583</td>\n",
       "      <td>21896</td>\n",
       "      <td>35669</td>\n",
       "      <td>155748</td>\n",
       "      <td>Texas</td>\n",
       "      <td>27677000</td>\n",
       "    </tr>\n",
       "    <tr>\n",
       "      <th>4</th>\n",
       "      <td>4</td>\n",
       "      <td>Bryce Canyon</td>\n",
       "      <td>Utah</td>\n",
       "      <td>158701</td>\n",
       "      <td>245418</td>\n",
       "      <td>177327</td>\n",
       "      <td>623241</td>\n",
       "      <td>Utah</td>\n",
       "      <td>3102000</td>\n",
       "    </tr>\n",
       "    <tr>\n",
       "      <th>5</th>\n",
       "      <td>5</td>\n",
       "      <td>Capitol Reef</td>\n",
       "      <td>Utah</td>\n",
       "      <td>270641</td>\n",
       "      <td>259080</td>\n",
       "      <td>217466</td>\n",
       "      <td>786764</td>\n",
       "      <td>Utah</td>\n",
       "      <td>3102000</td>\n",
       "    </tr>\n",
       "    <tr>\n",
       "      <th>6</th>\n",
       "      <td>6</td>\n",
       "      <td>Crater Lake</td>\n",
       "      <td>Oregon</td>\n",
       "      <td>24468</td>\n",
       "      <td>201731</td>\n",
       "      <td>54512</td>\n",
       "      <td>285594</td>\n",
       "      <td>Oregon</td>\n",
       "      <td>4143000</td>\n",
       "    </tr>\n",
       "    <tr>\n",
       "      <th>7</th>\n",
       "      <td>7</td>\n",
       "      <td>Death Valley</td>\n",
       "      <td>California</td>\n",
       "      <td>99269</td>\n",
       "      <td>124506</td>\n",
       "      <td>107237</td>\n",
       "      <td>410848</td>\n",
       "      <td>California</td>\n",
       "      <td>39500000</td>\n",
       "    </tr>\n",
       "    <tr>\n",
       "      <th>8</th>\n",
       "      <td>8</td>\n",
       "      <td>Grand Canyon</td>\n",
       "      <td>Arizona</td>\n",
       "      <td>537160</td>\n",
       "      <td>657787</td>\n",
       "      <td>501213</td>\n",
       "      <td>1967482</td>\n",
       "      <td>Arizona</td>\n",
       "      <td>70160000</td>\n",
       "    </tr>\n",
       "    <tr>\n",
       "      <th>9</th>\n",
       "      <td>9</td>\n",
       "      <td>Grand Teton</td>\n",
       "      <td>Wyoming</td>\n",
       "      <td>484160</td>\n",
       "      <td>1642717</td>\n",
       "      <td>762411</td>\n",
       "      <td>3207493</td>\n",
       "      <td>Wyoming</td>\n",
       "      <td>572000</td>\n",
       "    </tr>\n",
       "    <tr>\n",
       "      <th>10</th>\n",
       "      <td>10</td>\n",
       "      <td>Great Smoky Mountains</td>\n",
       "      <td>Tennessee</td>\n",
       "      <td>2727294</td>\n",
       "      <td>3534925</td>\n",
       "      <td>4539863</td>\n",
       "      <td>13876483</td>\n",
       "      <td>Tennessee</td>\n",
       "      <td>67160000</td>\n",
       "    </tr>\n",
       "    <tr>\n",
       "      <th>11</th>\n",
       "      <td>11</td>\n",
       "      <td>Guadalupe Mountains</td>\n",
       "      <td>Texas</td>\n",
       "      <td>36588</td>\n",
       "      <td>18826</td>\n",
       "      <td>21687</td>\n",
       "      <td>98732</td>\n",
       "      <td>Texas</td>\n",
       "      <td>27677000</td>\n",
       "    </tr>\n",
       "    <tr>\n",
       "      <th>12</th>\n",
       "      <td>12</td>\n",
       "      <td>Joshua Tree</td>\n",
       "      <td>California</td>\n",
       "      <td>275422</td>\n",
       "      <td>107437</td>\n",
       "      <td>178859</td>\n",
       "      <td>782167</td>\n",
       "      <td>California</td>\n",
       "      <td>39500000</td>\n",
       "    </tr>\n",
       "    <tr>\n",
       "      <th>13</th>\n",
       "      <td>13</td>\n",
       "      <td>Kenai Fjords</td>\n",
       "      <td>Alaska</td>\n",
       "      <td>4806</td>\n",
       "      <td>44912</td>\n",
       "      <td>8076</td>\n",
       "      <td>57794</td>\n",
       "      <td>Alaska</td>\n",
       "      <td>739795</td>\n",
       "    </tr>\n",
       "    <tr>\n",
       "      <th>14</th>\n",
       "      <td>14</td>\n",
       "      <td>Kings Canyon</td>\n",
       "      <td>California</td>\n",
       "      <td>48458</td>\n",
       "      <td>121431</td>\n",
       "      <td>62998</td>\n",
       "      <td>254443</td>\n",
       "      <td>California</td>\n",
       "      <td>39500000</td>\n",
       "    </tr>\n",
       "    <tr>\n",
       "      <th>15</th>\n",
       "      <td>15</td>\n",
       "      <td>Lassen Volcanic</td>\n",
       "      <td>California</td>\n",
       "      <td>17630</td>\n",
       "      <td>119634</td>\n",
       "      <td>54710</td>\n",
       "      <td>200658</td>\n",
       "      <td>California</td>\n",
       "      <td>39500000</td>\n",
       "    </tr>\n",
       "    <tr>\n",
       "      <th>16</th>\n",
       "      <td>16</td>\n",
       "      <td>Mount Rainier</td>\n",
       "      <td>Washington</td>\n",
       "      <td>85301</td>\n",
       "      <td>539982</td>\n",
       "      <td>231668</td>\n",
       "      <td>889046</td>\n",
       "      <td>Washington</td>\n",
       "      <td>7406000</td>\n",
       "    </tr>\n",
       "    <tr>\n",
       "      <th>17</th>\n",
       "      <td>17</td>\n",
       "      <td>Olympic</td>\n",
       "      <td>Washington</td>\n",
       "      <td>280318</td>\n",
       "      <td>557783</td>\n",
       "      <td>257392</td>\n",
       "      <td>1219445</td>\n",
       "      <td>Washington</td>\n",
       "      <td>7406000</td>\n",
       "    </tr>\n",
       "    <tr>\n",
       "      <th>18</th>\n",
       "      <td>18</td>\n",
       "      <td>Rocky Mountain</td>\n",
       "      <td>Colorado</td>\n",
       "      <td>182488</td>\n",
       "      <td>763554</td>\n",
       "      <td>404973</td>\n",
       "      <td>1441294</td>\n",
       "      <td>Colorado</td>\n",
       "      <td>5509000</td>\n",
       "    </tr>\n",
       "    <tr>\n",
       "      <th>19</th>\n",
       "      <td>19</td>\n",
       "      <td>Saguaro</td>\n",
       "      <td>Arizona</td>\n",
       "      <td>888437</td>\n",
       "      <td>745084</td>\n",
       "      <td>778869</td>\n",
       "      <td>3317359</td>\n",
       "      <td>Arizona</td>\n",
       "      <td>70160000</td>\n",
       "    </tr>\n",
       "    <tr>\n",
       "      <th>20</th>\n",
       "      <td>20</td>\n",
       "      <td>Sequoia</td>\n",
       "      <td>California</td>\n",
       "      <td>102948</td>\n",
       "      <td>200704</td>\n",
       "      <td>104590</td>\n",
       "      <td>454829</td>\n",
       "      <td>California</td>\n",
       "      <td>39500000</td>\n",
       "    </tr>\n",
       "    <tr>\n",
       "      <th>21</th>\n",
       "      <td>21</td>\n",
       "      <td>Shenandoah</td>\n",
       "      <td>Virginia</td>\n",
       "      <td>133008</td>\n",
       "      <td>216878</td>\n",
       "      <td>217344</td>\n",
       "      <td>610768</td>\n",
       "      <td>Virginia</td>\n",
       "      <td>8175000</td>\n",
       "    </tr>\n",
       "    <tr>\n",
       "      <th>22</th>\n",
       "      <td>22</td>\n",
       "      <td>Yellowstone</td>\n",
       "      <td>Wyoming</td>\n",
       "      <td>405543</td>\n",
       "      <td>1500447</td>\n",
       "      <td>590027</td>\n",
       "      <td>2656437</td>\n",
       "      <td>Wyoming</td>\n",
       "      <td>572000</td>\n",
       "    </tr>\n",
       "    <tr>\n",
       "      <th>23</th>\n",
       "      <td>23</td>\n",
       "      <td>Yosemite</td>\n",
       "      <td>California</td>\n",
       "      <td>395534</td>\n",
       "      <td>800951</td>\n",
       "      <td>520111</td>\n",
       "      <td>1888971</td>\n",
       "      <td>California</td>\n",
       "      <td>39500000</td>\n",
       "    </tr>\n",
       "    <tr>\n",
       "      <th>24</th>\n",
       "      <td>24</td>\n",
       "      <td>Zion</td>\n",
       "      <td>Utah</td>\n",
       "      <td>463766</td>\n",
       "      <td>482898</td>\n",
       "      <td>402714</td>\n",
       "      <td>1534932</td>\n",
       "      <td>Utah</td>\n",
       "      <td>3102000</td>\n",
       "    </tr>\n",
       "  </tbody>\n",
       "</table>\n",
       "</div>"
      ],
      "text/plain": [
       "    Unnamed: 0                   Park       State   Spring   Summer     Fall  \\\n",
       "0            0                 Acadia       Maine    54212   264288   157764   \n",
       "1            1        Apostle Islands   Wisconsin     5779    24752    12170   \n",
       "2            2                 Arches        Utah   172387   202429   151742   \n",
       "3            3               Big Bend       Texas    56583    21896    35669   \n",
       "4            4           Bryce Canyon        Utah   158701   245418   177327   \n",
       "5            5           Capitol Reef        Utah   270641   259080   217466   \n",
       "6            6            Crater Lake      Oregon    24468   201731    54512   \n",
       "7            7           Death Valley  California    99269   124506   107237   \n",
       "8            8           Grand Canyon     Arizona   537160   657787   501213   \n",
       "9            9            Grand Teton     Wyoming   484160  1642717   762411   \n",
       "10          10  Great Smoky Mountains   Tennessee  2727294  3534925  4539863   \n",
       "11          11    Guadalupe Mountains       Texas    36588    18826    21687   \n",
       "12          12            Joshua Tree  California   275422   107437   178859   \n",
       "13          13           Kenai Fjords      Alaska     4806    44912     8076   \n",
       "14          14           Kings Canyon  California    48458   121431    62998   \n",
       "15          15        Lassen Volcanic  California    17630   119634    54710   \n",
       "16          16          Mount Rainier  Washington    85301   539982   231668   \n",
       "17          17                Olympic  Washington   280318   557783   257392   \n",
       "18          18         Rocky Mountain    Colorado   182488   763554   404973   \n",
       "19          19                Saguaro     Arizona   888437   745084   778869   \n",
       "20          20                Sequoia  California   102948   200704   104590   \n",
       "21          21             Shenandoah    Virginia   133008   216878   217344   \n",
       "22          22            Yellowstone     Wyoming   405543  1500447   590027   \n",
       "23          23               Yosemite  California   395534   800951   520111   \n",
       "24          24                   Zion        Utah   463766   482898   402714   \n",
       "\n",
       "      Winter     State_p  Population  \n",
       "0     491360       Maine     1336000  \n",
       "1      45540   Wisconsin     5795000  \n",
       "2     569658        Utah     3102000  \n",
       "3     155748       Texas    27677000  \n",
       "4     623241        Utah     3102000  \n",
       "5     786764        Utah     3102000  \n",
       "6     285594      Oregon     4143000  \n",
       "7     410848  California    39500000  \n",
       "8    1967482     Arizona    70160000  \n",
       "9    3207493     Wyoming      572000  \n",
       "10  13876483   Tennessee    67160000  \n",
       "11     98732       Texas    27677000  \n",
       "12    782167  California    39500000  \n",
       "13     57794      Alaska      739795  \n",
       "14    254443  California    39500000  \n",
       "15    200658  California    39500000  \n",
       "16    889046  Washington     7406000  \n",
       "17   1219445  Washington     7406000  \n",
       "18   1441294    Colorado     5509000  \n",
       "19   3317359     Arizona    70160000  \n",
       "20    454829  California    39500000  \n",
       "21    610768    Virginia     8175000  \n",
       "22   2656437     Wyoming      572000  \n",
       "23   1888971  California    39500000  \n",
       "24   1534932        Utah     3102000  "
      ]
     },
     "execution_count": 127,
     "metadata": {},
     "output_type": "execute_result"
    }
   ],
   "source": [
    "#print (States_tallied_Merged_visitors_df.head(5))\n",
    "States_tallied_Merged_visitors_df.columns\n",
    "States_tallied_Merged_visitors_df"
   ]
  },
  {
   "cell_type": "code",
   "execution_count": 3,
   "metadata": {},
   "outputs": [
    {
     "data": {
      "text/plain": [
       "(25, 6)"
      ]
     },
     "execution_count": 3,
     "metadata": {},
     "output_type": "execute_result"
    }
   ],
   "source": [
    "Visitors_df.shape\n"
   ]
  },
  {
   "cell_type": "code",
   "execution_count": 25,
   "metadata": {
    "scrolled": true
   },
   "outputs": [
    {
     "data": {
      "text/html": [
       "<div>\n",
       "<style scoped>\n",
       "    .dataframe tbody tr th:only-of-type {\n",
       "        vertical-align: middle;\n",
       "    }\n",
       "\n",
       "    .dataframe tbody tr th {\n",
       "        vertical-align: top;\n",
       "    }\n",
       "\n",
       "    .dataframe thead th {\n",
       "        text-align: right;\n",
       "    }\n",
       "</style>\n",
       "<table border=\"1\" class=\"dataframe\">\n",
       "  <thead>\n",
       "    <tr style=\"text-align: right;\">\n",
       "      <th></th>\n",
       "      <th></th>\n",
       "      <th>Spring</th>\n",
       "      <th>Summer</th>\n",
       "      <th>Fall</th>\n",
       "      <th>Winter</th>\n",
       "    </tr>\n",
       "    <tr>\n",
       "      <th>Park</th>\n",
       "      <th>State</th>\n",
       "      <th></th>\n",
       "      <th></th>\n",
       "      <th></th>\n",
       "      <th></th>\n",
       "    </tr>\n",
       "  </thead>\n",
       "  <tbody>\n",
       "    <tr>\n",
       "      <th>Acadia</th>\n",
       "      <th>Maine</th>\n",
       "      <td>54212</td>\n",
       "      <td>264288</td>\n",
       "      <td>157764</td>\n",
       "      <td>491360</td>\n",
       "    </tr>\n",
       "    <tr>\n",
       "      <th>Apostle Islands</th>\n",
       "      <th>Wisconsin</th>\n",
       "      <td>5779</td>\n",
       "      <td>24752</td>\n",
       "      <td>12170</td>\n",
       "      <td>45540</td>\n",
       "    </tr>\n",
       "    <tr>\n",
       "      <th>Arches</th>\n",
       "      <th>Utah</th>\n",
       "      <td>172387</td>\n",
       "      <td>202429</td>\n",
       "      <td>151742</td>\n",
       "      <td>569658</td>\n",
       "    </tr>\n",
       "    <tr>\n",
       "      <th>Big Bend</th>\n",
       "      <th>Texas</th>\n",
       "      <td>56583</td>\n",
       "      <td>21896</td>\n",
       "      <td>35669</td>\n",
       "      <td>155748</td>\n",
       "    </tr>\n",
       "    <tr>\n",
       "      <th>Bryce Canyon</th>\n",
       "      <th>Utah</th>\n",
       "      <td>158701</td>\n",
       "      <td>245418</td>\n",
       "      <td>177327</td>\n",
       "      <td>623241</td>\n",
       "    </tr>\n",
       "  </tbody>\n",
       "</table>\n",
       "</div>"
      ],
      "text/plain": [
       "                           Spring  Summer    Fall  Winter\n",
       "Park            State                                    \n",
       "Acadia          Maine       54212  264288  157764  491360\n",
       "Apostle Islands Wisconsin    5779   24752   12170   45540\n",
       "Arches          Utah       172387  202429  151742  569658\n",
       "Big Bend        Texas       56583   21896   35669  155748\n",
       "Bryce Canyon    Utah       158701  245418  177327  623241"
      ]
     },
     "execution_count": 25,
     "metadata": {},
     "output_type": "execute_result"
    }
   ],
   "source": [
    "experiment_parks_tot = Visitors_df.groupby(['Park','State']).sum()\n",
    "experiment_parks_tot.head()\n",
    "#len(experiment_parks_tot)\n",
    "#experiment_parks_tot.groupby(['State']).sum()"
   ]
  },
  {
   "cell_type": "code",
   "execution_count": 187,
   "metadata": {},
   "outputs": [],
   "source": [
    "#Ignore\n",
    "# x_spring_park_df = experiment_parks_tot.loc[:,'Spring']\n",
    "# x_spring_park_df.head()\n",
    "# x_spring_park_df.groupby('State').sum()\n",
    "# x_spring_park_df\n",
    "#x_spring_park_df.groupby(['State','Park']).count()\n",
    "############################################################\n",
    "# calculate spring total visitors per state #################\n",
    "parks_states_spring_df = experiment_parks_tot.groupby(['State','Park'])[['Spring']].sum()\n",
    "parks_states_spring_df\n",
    "#parks_states_spring_df.columns\n",
    "x = parks_states_spring_df.reset_index()\n",
    "total_spring_df = x.groupby(['State'])[['Spring']].sum()\n",
    "#################################################################\n",
    "\n",
    "total_spring_df.head()\n",
    "total_spring_df = total_spring_df.reset_index()\n",
    "total_spring_df.columns\n",
    "total_spring_df.set_index(['State'],inplace=True)"
   ]
  },
  {
   "cell_type": "code",
   "execution_count": 188,
   "metadata": {
    "scrolled": true
   },
   "outputs": [
    {
     "data": {
      "text/html": [
       "<div>\n",
       "<style scoped>\n",
       "    .dataframe tbody tr th:only-of-type {\n",
       "        vertical-align: middle;\n",
       "    }\n",
       "\n",
       "    .dataframe tbody tr th {\n",
       "        vertical-align: top;\n",
       "    }\n",
       "\n",
       "    .dataframe thead th {\n",
       "        text-align: right;\n",
       "    }\n",
       "</style>\n",
       "<table border=\"1\" class=\"dataframe\">\n",
       "  <thead>\n",
       "    <tr style=\"text-align: right;\">\n",
       "      <th></th>\n",
       "      <th>Spring</th>\n",
       "    </tr>\n",
       "    <tr>\n",
       "      <th>State</th>\n",
       "      <th></th>\n",
       "    </tr>\n",
       "  </thead>\n",
       "  <tbody>\n",
       "    <tr>\n",
       "      <th>Alaska</th>\n",
       "      <td>4806</td>\n",
       "    </tr>\n",
       "    <tr>\n",
       "      <th>Arizona</th>\n",
       "      <td>1425597</td>\n",
       "    </tr>\n",
       "    <tr>\n",
       "      <th>California</th>\n",
       "      <td>939261</td>\n",
       "    </tr>\n",
       "    <tr>\n",
       "      <th>Colorado</th>\n",
       "      <td>182488</td>\n",
       "    </tr>\n",
       "    <tr>\n",
       "      <th>Maine</th>\n",
       "      <td>54212</td>\n",
       "    </tr>\n",
       "  </tbody>\n",
       "</table>\n",
       "</div>"
      ],
      "text/plain": [
       "             Spring\n",
       "State              \n",
       "Alaska         4806\n",
       "Arizona     1425597\n",
       "California   939261\n",
       "Colorado     182488\n",
       "Maine         54212"
      ]
     },
     "execution_count": 188,
     "metadata": {},
     "output_type": "execute_result"
    }
   ],
   "source": [
    "total_spring_df.head()"
   ]
  },
  {
   "cell_type": "code",
   "execution_count": 191,
   "metadata": {},
   "outputs": [
    {
     "data": {
      "image/png": "[encoded data removed]",
      "text/plain": [
       "<Figure size 432x288 with 1 Axes>"
      ]
     },
     "metadata": {},
     "output_type": "display_data"
    },
    {
     "data": {
      "text/plain": [
       "<Figure size 432x288 with 0 Axes>"
      ]
     },
     "metadata": {},
     "output_type": "display_data"
    }
   ],
   "source": [
    "### plotted park viitors against states \n",
    "total_spring_df.plot(kind=\"bar\", facecolor=\"pink\")\n",
    "plt.ylabel(\"National Park Visitors \")\n",
    "plt.xlabel('State')\n",
    "plt.show()\n",
    "plt.tight_layout()"
   ]
  },
  {
   "cell_type": "code",
   "execution_count": 129,
   "metadata": {
    "scrolled": false
   },
   "outputs": [
    {
     "data": {
      "text/html": [
       "<div>\n",
       "<style scoped>\n",
       "    .dataframe tbody tr th:only-of-type {\n",
       "        vertical-align: middle;\n",
       "    }\n",
       "\n",
       "    .dataframe tbody tr th {\n",
       "        vertical-align: top;\n",
       "    }\n",
       "\n",
       "    .dataframe thead th {\n",
       "        text-align: right;\n",
       "    }\n",
       "</style>\n",
       "<table border=\"1\" class=\"dataframe\">\n",
       "  <thead>\n",
       "    <tr style=\"text-align: right;\">\n",
       "      <th></th>\n",
       "      <th>Summer</th>\n",
       "    </tr>\n",
       "    <tr>\n",
       "      <th>State</th>\n",
       "      <th></th>\n",
       "    </tr>\n",
       "  </thead>\n",
       "  <tbody>\n",
       "    <tr>\n",
       "      <th>Alaska</th>\n",
       "      <td>44912</td>\n",
       "    </tr>\n",
       "    <tr>\n",
       "      <th>Arizona</th>\n",
       "      <td>1402871</td>\n",
       "    </tr>\n",
       "    <tr>\n",
       "      <th>California</th>\n",
       "      <td>1474663</td>\n",
       "    </tr>\n",
       "    <tr>\n",
       "      <th>Colorado</th>\n",
       "      <td>763554</td>\n",
       "    </tr>\n",
       "    <tr>\n",
       "      <th>Maine</th>\n",
       "      <td>264288</td>\n",
       "    </tr>\n",
       "  </tbody>\n",
       "</table>\n",
       "</div>"
      ],
      "text/plain": [
       "             Summer\n",
       "State              \n",
       "Alaska        44912\n",
       "Arizona     1402871\n",
       "California  1474663\n",
       "Colorado     763554\n",
       "Maine        264288"
      ]
     },
     "execution_count": 129,
     "metadata": {},
     "output_type": "execute_result"
    }
   ],
   "source": [
    "# calculate Summer total visitors per state #################\n",
    "parks_states_summer_df = experiment_parks_tot.groupby(['State','Park'])[['Summer']].sum()\n",
    "x = parks_states_summer_df.reset_index()\n",
    "total_summer_df = x.groupby(['State'])[['Summer']].sum()\n",
    "total_summer_df.head()\n",
    "total_summer__df = total_summer_df.reset_index()\n",
    "total_summer_df.columns\n",
    "total_summer_df.head()\n"
   ]
  },
  {
   "cell_type": "code",
   "execution_count": 190,
   "metadata": {},
   "outputs": [
    {
     "data": {
      "image/png": "[encoded data removed]",
      "text/plain": [
       "<Figure size 432x288 with 1 Axes>"
      ]
     },
     "metadata": {},
     "output_type": "display_data"
    },
    {
     "data": {
      "text/plain": [
       "<Figure size 432x288 with 0 Axes>"
      ]
     },
     "metadata": {},
     "output_type": "display_data"
    }
   ],
   "source": [
    "### plotted park viitors against states \n",
    "total_summer_df.plot(kind=\"bar\", facecolor=\"purple\")\n",
    "plt.ylabel(\"National Park Visitors \")\n",
    "plt.xlabel('State')\n",
    "plt.show()\n",
    "plt.tight_layout()"
   ]
  },
  {
   "cell_type": "code",
   "execution_count": null,
   "metadata": {},
   "outputs": [],
   "source": []
  },
  {
   "cell_type": "code",
   "execution_count": 186,
   "metadata": {},
   "outputs": [
    {
     "data": {
      "image/png": "[encoded data removed]",
      "text/plain": [
       "<Figure size 432x288 with 1 Axes>"
      ]
     },
     "metadata": {},
     "output_type": "display_data"
    },
    {
     "data": {
      "text/plain": [
       "<Figure size 432x288 with 0 Axes>"
      ]
     },
     "metadata": {},
     "output_type": "display_data"
    }
   ],
   "source": [
    "### plotted park viitors against states \n",
    "total_summer_df.plot(kind=\"bar\", facecolor=\"purple\")\n",
    "plt.ylabel(\"National Park Visitors \")\n",
    "plt.xlabel('State')\n",
    "plt.show()\n",
    "plt.tight_layout()"
   ]
  },
  {
   "cell_type": "code",
   "execution_count": 182,
   "metadata": {
    "scrolled": false
   },
   "outputs": [],
   "source": [
    "# calculate Summer total visitors per state #################\n",
    "parks_states_fall_df = experiment_parks_tot.groupby(['State','Park'])[['Fall']].sum()\n",
    "x = parks_states_fall_df.reset_index()\n",
    "total_fall_df = x.groupby(['State'])[['Fall']].sum()\n",
    "total_fall_df.head()\n",
    "total_fall_df.columns\n",
    "total_fall_df = total_fall_df.reset_index()\n",
    "total_fall_df.columns\n",
    "total_fall_df.set_index(['State'],inplace=True)"
   ]
  },
  {
   "cell_type": "code",
   "execution_count": 183,
   "metadata": {
    "scrolled": true
   },
   "outputs": [
    {
     "data": {
      "text/html": [
       "<div>\n",
       "<style scoped>\n",
       "    .dataframe tbody tr th:only-of-type {\n",
       "        vertical-align: middle;\n",
       "    }\n",
       "\n",
       "    .dataframe tbody tr th {\n",
       "        vertical-align: top;\n",
       "    }\n",
       "\n",
       "    .dataframe thead th {\n",
       "        text-align: right;\n",
       "    }\n",
       "</style>\n",
       "<table border=\"1\" class=\"dataframe\">\n",
       "  <thead>\n",
       "    <tr style=\"text-align: right;\">\n",
       "      <th></th>\n",
       "      <th>Fall</th>\n",
       "    </tr>\n",
       "    <tr>\n",
       "      <th>State</th>\n",
       "      <th></th>\n",
       "    </tr>\n",
       "  </thead>\n",
       "  <tbody>\n",
       "    <tr>\n",
       "      <th>Alaska</th>\n",
       "      <td>8076</td>\n",
       "    </tr>\n",
       "    <tr>\n",
       "      <th>Arizona</th>\n",
       "      <td>1280082</td>\n",
       "    </tr>\n",
       "    <tr>\n",
       "      <th>California</th>\n",
       "      <td>1028505</td>\n",
       "    </tr>\n",
       "    <tr>\n",
       "      <th>Colorado</th>\n",
       "      <td>404973</td>\n",
       "    </tr>\n",
       "    <tr>\n",
       "      <th>Maine</th>\n",
       "      <td>157764</td>\n",
       "    </tr>\n",
       "  </tbody>\n",
       "</table>\n",
       "</div>"
      ],
      "text/plain": [
       "               Fall\n",
       "State              \n",
       "Alaska         8076\n",
       "Arizona     1280082\n",
       "California  1028505\n",
       "Colorado     404973\n",
       "Maine        157764"
      ]
     },
     "execution_count": 183,
     "metadata": {},
     "output_type": "execute_result"
    }
   ],
   "source": [
    "# I have states as my index in fall \n",
    "total_fall_df.head()\n"
   ]
  },
  {
   "cell_type": "code",
   "execution_count": 184,
   "metadata": {},
   "outputs": [
    {
     "data": {
      "image/png": "[encoded data removed]",
      "text/plain": [
       "<Figure size 432x288 with 1 Axes>"
      ]
     },
     "metadata": {},
     "output_type": "display_data"
    },
    {
     "data": {
      "text/plain": [
       "<Figure size 432x288 with 0 Axes>"
      ]
     },
     "metadata": {},
     "output_type": "display_data"
    }
   ],
   "source": [
    "### plotted park viitors against states \n",
    "total_fall_df.plot(kind=\"bar\", facecolor=\"blue\")\n",
    "plt.ylabel(\"National Park Visitors \")\n",
    "plt.xlabel('State')\n",
    "plt.show()\n",
    "plt.tight_layout()"
   ]
  },
  {
   "cell_type": "code",
   "execution_count": 159,
   "metadata": {
    "scrolled": false
   },
   "outputs": [
    {
     "data": {
      "text/html": [
       "<div>\n",
       "<style scoped>\n",
       "    .dataframe tbody tr th:only-of-type {\n",
       "        vertical-align: middle;\n",
       "    }\n",
       "\n",
       "    .dataframe tbody tr th {\n",
       "        vertical-align: top;\n",
       "    }\n",
       "\n",
       "    .dataframe thead th {\n",
       "        text-align: right;\n",
       "    }\n",
       "</style>\n",
       "<table border=\"1\" class=\"dataframe\">\n",
       "  <thead>\n",
       "    <tr style=\"text-align: right;\">\n",
       "      <th></th>\n",
       "      <th>State</th>\n",
       "      <th>Winter</th>\n",
       "    </tr>\n",
       "  </thead>\n",
       "  <tbody>\n",
       "    <tr>\n",
       "      <th>0</th>\n",
       "      <td>Alaska</td>\n",
       "      <td>57794</td>\n",
       "    </tr>\n",
       "    <tr>\n",
       "      <th>1</th>\n",
       "      <td>Arizona</td>\n",
       "      <td>5284841</td>\n",
       "    </tr>\n",
       "    <tr>\n",
       "      <th>2</th>\n",
       "      <td>California</td>\n",
       "      <td>3991916</td>\n",
       "    </tr>\n",
       "    <tr>\n",
       "      <th>3</th>\n",
       "      <td>Colorado</td>\n",
       "      <td>1441294</td>\n",
       "    </tr>\n",
       "    <tr>\n",
       "      <th>4</th>\n",
       "      <td>Maine</td>\n",
       "      <td>491360</td>\n",
       "    </tr>\n",
       "  </tbody>\n",
       "</table>\n",
       "</div>"
      ],
      "text/plain": [
       "        State   Winter\n",
       "0      Alaska    57794\n",
       "1     Arizona  5284841\n",
       "2  California  3991916\n",
       "3    Colorado  1441294\n",
       "4       Maine   491360"
      ]
     },
     "execution_count": 159,
     "metadata": {},
     "output_type": "execute_result"
    }
   ],
   "source": [
    "# calculate winter total visitors per state #################\n",
    "parks_states_winter_df = experiment_parks_tot.groupby(['State','Park'])[['Winter']].sum()\n",
    "x = parks_states_winter_df.reset_index()\n",
    "total_winter_df = x.groupby(['State'])[['Winter']].sum()\n",
    "total_winter_df.head()\n",
    "total_winter_df = total_winter_df.reset_index()\n",
    "total_winter_df.columns\n",
    "total_winter_df.head()"
   ]
  },
  {
   "cell_type": "code",
   "execution_count": 132,
   "metadata": {
    "scrolled": true
   },
   "outputs": [],
   "source": [
    "# Merge all dataframes with accumulated visitors total per state per seasons into one frame\n",
    "all_total_reviews_state_2__df = pd.merge(total_winter_df,total_spring_df,on='State')\n",
    "all_total_reviews_state_3_df = pd.merge(total_summer_df,total_fall_df,on='State')"
   ]
  },
  {
   "cell_type": "code",
   "execution_count": 133,
   "metadata": {},
   "outputs": [],
   "source": [
    "# I am merging into final one dataframe\n",
    "all_total_reviews_state_df = pd.merge(all_total_reviews_state_2__df,all_total_reviews_state_3_df,on='State') \n",
    "all_total_reviews_state_df.head()\n",
    "\n",
    "all_total_reviews_state_df.set_index('State',inplace=True)\n"
   ]
  },
  {
   "cell_type": "code",
   "execution_count": 175,
   "metadata": {},
   "outputs": [
    {
     "data": {
      "text/html": [
       "<div>\n",
       "<style scoped>\n",
       "    .dataframe tbody tr th:only-of-type {\n",
       "        vertical-align: middle;\n",
       "    }\n",
       "\n",
       "    .dataframe tbody tr th {\n",
       "        vertical-align: top;\n",
       "    }\n",
       "\n",
       "    .dataframe thead th {\n",
       "        text-align: right;\n",
       "    }\n",
       "</style>\n",
       "<table border=\"1\" class=\"dataframe\">\n",
       "  <thead>\n",
       "    <tr style=\"text-align: right;\">\n",
       "      <th></th>\n",
       "      <th>Winter</th>\n",
       "    </tr>\n",
       "    <tr>\n",
       "      <th>State</th>\n",
       "      <th></th>\n",
       "    </tr>\n",
       "  </thead>\n",
       "  <tbody>\n",
       "    <tr>\n",
       "      <th>Alaska</th>\n",
       "      <td>57794</td>\n",
       "    </tr>\n",
       "    <tr>\n",
       "      <th>Arizona</th>\n",
       "      <td>5284841</td>\n",
       "    </tr>\n",
       "    <tr>\n",
       "      <th>California</th>\n",
       "      <td>3991916</td>\n",
       "    </tr>\n",
       "    <tr>\n",
       "      <th>Colorado</th>\n",
       "      <td>1441294</td>\n",
       "    </tr>\n",
       "    <tr>\n",
       "      <th>Maine</th>\n",
       "      <td>491360</td>\n",
       "    </tr>\n",
       "  </tbody>\n",
       "</table>\n",
       "</div>"
      ],
      "text/plain": [
       "             Winter\n",
       "State              \n",
       "Alaska        57794\n",
       "Arizona     5284841\n",
       "California  3991916\n",
       "Colorado    1441294\n",
       "Maine        491360"
      ]
     },
     "execution_count": 175,
     "metadata": {},
     "output_type": "execute_result"
    }
   ],
   "source": [
    "\n",
    "#total_winter_df.set_index(['State'],inplace=True)\n",
    "total_winter_df.reset_index()\n",
    "total_winter_df.columns\n",
    "total_winter_df.head()"
   ]
  },
  {
   "cell_type": "raw",
   "metadata": {
    "scrolled": false
   },
   "source": []
  },
  {
   "cell_type": "code",
   "execution_count": 173,
   "metadata": {
    "scrolled": true
   },
   "outputs": [
    {
     "data": {
      "image/png": "[encoded data removed]",
      "text/plain": [
       "<Figure size 432x288 with 1 Axes>"
      ]
     },
     "metadata": {},
     "output_type": "display_data"
    },
    {
     "data": {
      "text/plain": [
       "<Figure size 432x288 with 0 Axes>"
      ]
     },
     "metadata": {},
     "output_type": "display_data"
    }
   ],
   "source": [
    "### plotted park viitors against states \n",
    "total_winter_df.plot(kind=\"bar\", facecolor=\"red\")\n",
    "plt.ylabel(\"National Park Visitors \")\n",
    "plt.xlabel('State')\n",
    "plt.show()\n",
    "plt.tight_layout()"
   ]
  },
  {
   "cell_type": "code",
   "execution_count": null,
   "metadata": {},
   "outputs": [],
   "source": [
    "States_tallied_Merged_visitors_df.describe()\n",
    "States_tallied_Merged_visitors_summed_df = States_tallied_Merged_visitors_df.groupby('Park').sum()\n",
    "States_tallied_Merged_visitors_summed_df.to_csv('../csv_dir_correct/States_tallied_Merged_visitors_summed.csv')"
   ]
  },
  {
   "cell_type": "code",
   "execution_count": 223,
   "metadata": {},
   "outputs": [],
   "source": [
    "Top_3parks_winter_df = (States_tallied_Merged_visitors_summed_df.sort_values(by='Winter', ascending=False)).head(3)"
   ]
  },
  {
   "cell_type": "code",
   "execution_count": null,
   "metadata": {},
   "outputs": [],
   "source": []
  },
  {
   "cell_type": "code",
   "execution_count": 231,
   "metadata": {},
   "outputs": [],
   "source": [
    "Top_3parks_Spring_df = (States_tallied_Merged_visitors_summed_df.sort_values(by='Spring', ascending=False)).head(3)"
   ]
  },
  {
   "cell_type": "code",
   "execution_count": null,
   "metadata": {},
   "outputs": [],
   "source": []
  },
  {
   "cell_type": "code",
   "execution_count": 233,
   "metadata": {},
   "outputs": [],
   "source": [
    "Top_3parks_Summer_df = (States_tallied_Merged_visitors_summed_df.sort_values(by='Summer', ascending=False)).head(3)"
   ]
  },
  {
   "cell_type": "code",
   "execution_count": 237,
   "metadata": {},
   "outputs": [],
   "source": [
    "Top_3parks_Fall_df = (States_tallied_Merged_visitors_summed_df.sort_values(by='Fall', ascending=False)).head(3)"
   ]
  },
  {
   "cell_type": "code",
   "execution_count": 238,
   "metadata": {},
   "outputs": [],
   "source": [
    "# Writing out csv  most visted parks top 3 in the nation \n",
    "Top_3parks_winter_df.to_csv('Top_3parks_winter.csv')\n",
    "Top_3parks_Spring_df.to_csv('Top_3parks_Spring.csv')\n",
    "Top_3parks_Summer_df.to_csv('Top_3parks_Summer.csv')\n",
    "Top_3parks_Fall_df.to_csv('Top_3parks_Fall.csv')"
   ]
  },
  {
   "cell_type": "code",
   "execution_count": 235,
   "metadata": {},
   "outputs": [],
   "source": [
    "\n",
    "Bottom_3parks_winter_df = (States_tallied_Merged_visitors_summed_df.sort_values(by='Winter', ascending=True)).head(3)\n",
    "Bottom_3parks_Spring_df = (States_tallied_Merged_visitors_summed_df.sort_values(by='Spring',ascending=True)).head(3)\n",
    "Bottom_3parks_Summer_df = (States_tallied_Merged_visitors_summed_df.sort_values(by='Summer',ascending=True)).head(3)\n",
    "Bottom_3parks_Fall_df = (States_tallied_Merged_visitors_summed_df.sort_values(by='Fall',ascending=True)).head(3)"
   ]
  },
  {
   "cell_type": "code",
   "execution_count": 239,
   "metadata": {},
   "outputs": [],
   "source": []
  },
  {
   "cell_type": "code",
   "execution_count": 216,
   "metadata": {
    "scrolled": false
   },
   "outputs": [],
   "source": [
    "# # I am merging StatePop and Visitordfs\n",
    "# #pd.merge(Visitors_df,StatePop_df,\n",
    "# new_concat_visitor_pop_df = pd.concat([Visitors_df,StatePop_df],axis=1)\n",
    "# new_concat_visitor_pop_df"
   ]
  },
  {
   "cell_type": "code",
   "execution_count": 240,
   "metadata": {},
   "outputs": [],
   "source": [
    "# Writing out csv with least 3 visited parks in nation \n",
    "Bottom_3parks_winter_df.to_csv('../csv_dir_correct/Bottom_3parks_winter.csv')\n",
    "Bottom_3parks_Spring_df.to_csv('../csv_dir_correct/Bottom_3parks_Spring.csv')\n",
    "Bottom_3parks_Summer_df.to_csv('../csv_dir_correct/Bottom_3parks_Summer.csv')\n",
    "Bottom_3parks_Fall_df.to_csv('../csv_dir_correct/Bottom_3parks_Fall.csv')"
   ]
  },
  {
   "cell_type": "code",
   "execution_count": 183,
   "metadata": {
    "scrolled": true
   },
   "outputs": [],
   "source": [
    "# # this is for Jen to get the csv read in ####\n",
    "# new_concat_visitor_pop_df.to_csv('example.csv')\n",
    "# #Summer_Fall_Parks_collections_df"
   ]
  },
  {
   "cell_type": "code",
   "execution_count": 202,
   "metadata": {},
   "outputs": [],
   "source": [
    "# I m going to use the visitor df to get some analysis \n",
    "Visitors_df.head(10)\n",
    "Visitors_df.groupby(['State','Winter']).sum()\n",
    "Visitors_df_Winter_winner_df = Visitors_df.groupby(['State','Winter']).sum() \n",
    "Visitors_df_Winter_winner_df\n",
    "#Visitors_df.groupby(['State','Winter']).mean()\n",
    "Visitors_df_Winter_winner_df.to_csv('../csv_dir_correct/visitors_winner_winter.csv')\n",
    "Visitors_df_Spring_winner_df = Visitors_df.groupby(['State','Spring']).sum() \n",
    "Visitors_df_Spring_winner_df.to_csv('../csv_dir_correct/Visitors_df_Spring_winner_Spring.csv')\n",
    "Visitors_df.groupby(['State','Summer']).sum()\n",
    "Visitors_df_Summer_winner_df = Visitors_df.groupby(['State','Summer']).sum()\n",
    "Visitors_df_Summer_winner_df.to_csv('../csv_dir_correct/Visitors_winner_Summer.csv')\n",
    "Visitors_df_Fall_winner_df = Visitors_df.groupby(['State','Fall']).sum()\n",
    "Visitors_df_Fall_winner_df.to_csv('../csv_dir_correct/Visitors_winner_Fall.csv')"
   ]
  },
  {
   "cell_type": "code",
   "execution_count": 94,
   "metadata": {},
   "outputs": [],
   "source": []
  },
  {
   "cell_type": "code",
   "execution_count": 100,
   "metadata": {},
   "outputs": [],
   "source": []
  },
  {
   "cell_type": "code",
   "execution_count": null,
   "metadata": {},
   "outputs": [],
   "source": []
  },
  {
   "cell_type": "code",
   "execution_count": 103,
   "metadata": {
    "scrolled": true
   },
   "outputs": [],
   "source": []
  },
  {
   "cell_type": "code",
   "execution_count": null,
   "metadata": {
    "scrolled": true
   },
   "outputs": [],
   "source": []
  },
  {
   "cell_type": "code",
   "execution_count": null,
   "metadata": {},
   "outputs": [],
   "source": []
  }
 ],
 "metadata": {
  "kernelspec": {
   "display_name": "Python 3",
   "language": "python",
   "name": "python3"
  },
  "language_info": {
   "codemirror_mode": {
    "name": "ipython",
    "version": 3
   },
   "file_extension": ".py",
   "mimetype": "text/x-python",
   "name": "python",
   "nbconvert_exporter": "python",
   "pygments_lexer": "ipython3",
   "version": "3.6.5"
  }
 },
 "nbformat": 4,
 "nbformat_minor": 2
}
