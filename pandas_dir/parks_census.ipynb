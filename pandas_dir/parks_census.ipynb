{
 "cells": [
  {
   "cell_type": "code",
   "execution_count": 205,
   "metadata": {
    "scrolled": true
   },
   "outputs": [],
   "source": [
    "# Dependencies and Setup\n",
    "%matplotlib inline\n",
    "import matplotlib.pyplot as plt\n",
    "import pandas as pd\n",
    "import numpy as np\n",
    "import csv\n",
    "\n",
    "# Hide warning messages in notebook\n",
    "import warnings\n",
    "warnings.filterwarnings('ignore')\n",
    "\n",
    "# Read individual CSV files \n",
    "national_parks_usa_WINTER_to_load = \"/Users/bunni/Desktop/national_parks/parks/csv_dir/top10parks_by_Winter_1.csv\"\n",
    "national_parks_usa_SPRING_to_load = \"/Users/bunni/Desktop/national_parks/parks/csv_dir/top10parks_by-season_spring_1.csv\"\n",
    "national_parks_usa_SUMMER_to_load = \"/Users/bunni/Desktop/national_parks/parks/csv_dir/top10parks_by-season_summer_1.csv\"\n",
    "national_parks_usa_FALL_to_load = \"/Users/bunni/Desktop/national_parks/parks/csv_dir/top10parks_by_Fall_1.csv\" \n",
    "StatePopulation_file = \"/Users/bunni/Desktop/national_parks/parks/csv_dir_correct/PopulationPerState.csv\"\n",
    "AgeRange_file = \"/Users/bunni/Desktop/national_parks/parks/csv_dir_correct/Age_Percentage.csv\"\n",
    "visitors_file = \"/Users/bunni/Desktop/national_parks/parks/csv_dir_correct/VisitationPerSeason.csv\"\n",
    "meanIncome_file = \"/Users/bunni/Desktop/national_parks/parks/csv_dir_correct/MeanIncomeByAgeAndRace.csv\"\n",
    "medIncome_file = \"/Users/bunni/Desktop/national_parks/parks/csv_dir_correct/MedianIncomeByAgeAndRace.csv\"\n",
    "States_tallied_Merged_visitors_file = \"/Users/bunni/Desktop/national_parks/parks/csv_dir_correct/States_tallied_Merged_visitors.csv\"\n",
    "\n",
    "# Create individual Data Frame\n",
    "national_parks_usa_WINTER = pd.read_csv(national_parks_usa_WINTER_to_load,keep_default_na=False, na_values=[\"\"])\n",
    "national_parks_usa_SPRING = pd.read_csv(national_parks_usa_SPRING_to_load,keep_default_na=False, na_values=[\"\"])\n",
    "national_parks_usa_SUMMER = pd.read_csv(national_parks_usa_SUMMER_to_load,keep_default_na=False, na_values=[\"\"])\n",
    "national_parks_usa_FALL = pd.read_csv(national_parks_usa_FALL_to_load,keep_default_na=False, na_values=[\"\"])\n",
    "StatePop_df = pd.read_csv(StatePopulation_file, keep_default_na=False, na_values=[\"\"])\n",
    "AgeRange_df = pd.read_csv(AgeRange_file, keep_default_na=False, na_values=[\"\"])\n",
    "Visitors_df = pd.read_csv(visitors_file, keep_default_na=False, na_values=[\"\"])\n",
    "meanInc_df = pd.read_csv(meanIncome_file, keep_default_na=False, na_values=[\"\"])\n",
    "medInc_df = pd.read_csv(medIncome_file, keep_default_na=False, na_values=[\"\"])\n",
    "States_tallied_Merged_visitors_df = pd.read_csv(States_tallied_Merged_visitors_file, keep_default_na=False, na_values=[\"\"])\n",
    "\n",
    "# This is a very important step, DO NOT SKIP .\n",
    "Second_df_to_append = national_parks_usa_SPRING.reset_index()\n",
    "Second_df_set2_append = national_parks_usa_FALL.reset_index()"
   ]
  },
  {
   "cell_type": "code",
   "execution_count": 179,
   "metadata": {
    "scrolled": true
   },
   "outputs": [
    {
     "name": "stdout",
     "output_type": "stream",
     "text": [
      "              Park      State  Spring  Summer    Fall  Winter\n",
      "0           Acadia      Maine   54212  264288  157764  491360\n",
      "1  Apostle Islands  Wisconsin    5779   24752   12170   45540\n",
      "2           Arches       Utah  172387  202429  151742  569658\n"
     ]
    }
   ],
   "source": [
    "#print (Visitors_df.head(3))\n",
    "Visitors_df.shape\n",
    "Visitors_df = Visitors_df.rename(columns={'Total':'Winter'})\n",
    "print (Visitors_df.head(3))"
   ]
  },
  {
   "cell_type": "code",
   "execution_count": 211,
   "metadata": {},
   "outputs": [
    {
     "data": {
      "text/html": [
       "<div>\n",
       "<style scoped>\n",
       "    .dataframe tbody tr th:only-of-type {\n",
       "        vertical-align: middle;\n",
       "    }\n",
       "\n",
       "    .dataframe tbody tr th {\n",
       "        vertical-align: top;\n",
       "    }\n",
       "\n",
       "    .dataframe thead th {\n",
       "        text-align: right;\n",
       "    }\n",
       "</style>\n",
       "<table border=\"1\" class=\"dataframe\">\n",
       "  <thead>\n",
       "    <tr style=\"text-align: right;\">\n",
       "      <th></th>\n",
       "      <th>Unnamed: 0</th>\n",
       "      <th>Park</th>\n",
       "      <th>State</th>\n",
       "      <th>Spring</th>\n",
       "      <th>Summer</th>\n",
       "      <th>Fall</th>\n",
       "      <th>Winter</th>\n",
       "      <th>State_p</th>\n",
       "      <th>Population</th>\n",
       "    </tr>\n",
       "  </thead>\n",
       "  <tbody>\n",
       "    <tr>\n",
       "      <th>0</th>\n",
       "      <td>0</td>\n",
       "      <td>Acadia</td>\n",
       "      <td>Maine</td>\n",
       "      <td>54212</td>\n",
       "      <td>264288</td>\n",
       "      <td>157764</td>\n",
       "      <td>491360</td>\n",
       "      <td>Maine</td>\n",
       "      <td>1336000</td>\n",
       "    </tr>\n",
       "    <tr>\n",
       "      <th>1</th>\n",
       "      <td>1</td>\n",
       "      <td>Apostle Islands</td>\n",
       "      <td>Wisconsin</td>\n",
       "      <td>5779</td>\n",
       "      <td>24752</td>\n",
       "      <td>12170</td>\n",
       "      <td>45540</td>\n",
       "      <td>Wisconsin</td>\n",
       "      <td>5795000</td>\n",
       "    </tr>\n",
       "    <tr>\n",
       "      <th>2</th>\n",
       "      <td>2</td>\n",
       "      <td>Arches</td>\n",
       "      <td>Utah</td>\n",
       "      <td>172387</td>\n",
       "      <td>202429</td>\n",
       "      <td>151742</td>\n",
       "      <td>569658</td>\n",
       "      <td>Utah</td>\n",
       "      <td>3102000</td>\n",
       "    </tr>\n",
       "    <tr>\n",
       "      <th>3</th>\n",
       "      <td>3</td>\n",
       "      <td>Big Bend</td>\n",
       "      <td>Texas</td>\n",
       "      <td>56583</td>\n",
       "      <td>21896</td>\n",
       "      <td>35669</td>\n",
       "      <td>155748</td>\n",
       "      <td>Texas</td>\n",
       "      <td>27677000</td>\n",
       "    </tr>\n",
       "    <tr>\n",
       "      <th>4</th>\n",
       "      <td>4</td>\n",
       "      <td>Bryce Canyon</td>\n",
       "      <td>Utah</td>\n",
       "      <td>158701</td>\n",
       "      <td>245418</td>\n",
       "      <td>177327</td>\n",
       "      <td>623241</td>\n",
       "      <td>Utah</td>\n",
       "      <td>3102000</td>\n",
       "    </tr>\n",
       "  </tbody>\n",
       "</table>\n",
       "</div>"
      ],
      "text/plain": [
       "   Unnamed: 0             Park      State  Spring  Summer    Fall  Winter  \\\n",
       "0           0           Acadia      Maine   54212  264288  157764  491360   \n",
       "1           1  Apostle Islands  Wisconsin    5779   24752   12170   45540   \n",
       "2           2           Arches       Utah  172387  202429  151742  569658   \n",
       "3           3         Big Bend      Texas   56583   21896   35669  155748   \n",
       "4           4     Bryce Canyon       Utah  158701  245418  177327  623241   \n",
       "\n",
       "     State_p  Population  \n",
       "0      Maine     1336000  \n",
       "1  Wisconsin     5795000  \n",
       "2       Utah     3102000  \n",
       "3      Texas    27677000  \n",
       "4       Utah     3102000  "
      ]
     },
     "execution_count": 211,
     "metadata": {},
     "output_type": "execute_result"
    }
   ],
   "source": [
    "#print (States_tallied_Merged_visitors_df.head(5))\n",
    "States_tallied_Merged_visitors_df.columns\n",
    "States_tallied_Merged_visitors_df.head(5)"
   ]
  },
  {
   "cell_type": "code",
   "execution_count": 96,
   "metadata": {
    "scrolled": false
   },
   "outputs": [],
   "source": [
    "# # concatinate two Data frames . DO vertical Stacking . Make sure the columns are same . \n",
    "# Winter_Spring_Parks_collections_df = pd.concat([national_parks_usa_WINTER,Second_df_to_append ], axis=0)\n",
    "# Summer_Fall_Parks_collections_df = pd.concat([national_parks_usa_SUMMER,Second_df_set2_append ], axis=0) "
   ]
  },
  {
   "cell_type": "code",
   "execution_count": 221,
   "metadata": {
    "scrolled": false
   },
   "outputs": [],
   "source": [
    "States_tallied_Merged_visitors_df.describe()\n",
    "States_tallied_Merged_visitors_summed_df = States_tallied_Merged_visitors_df.groupby('Park').sum()\n",
    "States_tallied_Merged_visitors_summed_df.to_csv('States_tallied_Merged_visitors_summed.csv')"
   ]
  },
  {
   "cell_type": "code",
   "execution_count": 223,
   "metadata": {},
   "outputs": [],
   "source": [
    "Top_3parks_winter_df = (States_tallied_Merged_visitors_summed_df.sort_values(by='Winter', ascending=False)).head(3)"
   ]
  },
  {
   "cell_type": "code",
   "execution_count": 231,
   "metadata": {},
   "outputs": [],
   "source": [
    "Top_3parks_Spring_df = (States_tallied_Merged_visitors_summed_df.sort_values(by='Spring', ascending=False)).head(3)"
   ]
  },
  {
   "cell_type": "code",
   "execution_count": 233,
   "metadata": {},
   "outputs": [],
   "source": [
    "Top_3parks_Summer_df = (States_tallied_Merged_visitors_summed_df.sort_values(by='Summer', ascending=False)).head(3)"
   ]
  },
  {
   "cell_type": "code",
   "execution_count": 237,
   "metadata": {},
   "outputs": [],
   "source": [
    "Top_3parks_Fall_df = (States_tallied_Merged_visitors_summed_df.sort_values(by='Fall', ascending=False)).head(3)"
   ]
  },
  {
   "cell_type": "code",
   "execution_count": 238,
   "metadata": {},
   "outputs": [],
   "source": [
    "Top_3parks_winter_df.to_csv('Top_3parks_winter.csv')\n",
    "Top_3parks_Spring_df.to_csv('Top_3parks_Spring.csv')\n",
    "Top_3parks_Summer_df.to_csv('Top_3parks_Summer.csv')\n",
    "Top_3parks_Fall_df.to_csv('Top_3parks_Fall.csv')"
   ]
  },
  {
   "cell_type": "code",
   "execution_count": 235,
   "metadata": {},
   "outputs": [],
   "source": [
    "Top_3parks_winter_df\n",
    "#Bottom_3parks_winter_df = mmed_df.sort_values(by='Winter', ascending=True)).head(3)\n",
    "Bottom_3parks_Spring_df = (States_tallied_Merged_visitors_summed_df.sort_values(by='Spring',ascending=True)).head(3)\n",
    "Bottom_3parks_Summer_df = (States_tallied_Merged_visitors_summed_df.sort_values(by='Summer',ascending=True)).head(3)"
   ]
  },
  {
   "cell_type": "code",
   "execution_count": 239,
   "metadata": {},
   "outputs": [],
   "source": [
    "Bottom_3parks_Fall_df = (States_tallied_Merged_visitors_summed_df.sort_values(by='Fall',ascending=True)).head(3)"
   ]
  },
  {
   "cell_type": "code",
   "execution_count": 216,
   "metadata": {
    "scrolled": false
   },
   "outputs": [],
   "source": [
    "# # I am merging StatePop and Visitordfs\n",
    "# #pd.merge(Visitors_df,StatePop_df,\n",
    "# new_concat_visitor_pop_df = pd.concat([Visitors_df,StatePop_df],axis=1)\n",
    "# new_concat_visitor_pop_df"
   ]
  },
  {
   "cell_type": "code",
   "execution_count": 240,
   "metadata": {},
   "outputs": [],
   "source": [
    "Bottom_3parks_winter_df\n",
    "#Bottom_3parks_winter_df.to_csv('Bottom_3parks_winter.csv')\n",
    "Bottom_3parks_Spring_df.to_csv('Bottom_3parks_Spring.csv')\n",
    "Bottom_3parks_Summer_df.to_csv('Bottom_3parks_Summer.csv')\n",
    "Bottom_3parks_Fall_df.to_csv('Bottom_3parks_Fall.csv')"
   ]
  },
  {
   "cell_type": "code",
   "execution_count": 183,
   "metadata": {
    "scrolled": true
   },
   "outputs": [],
   "source": [
    "# # this is for Jen to get the csv read in ####\n",
    "# new_concat_visitor_pop_df.to_csv('example.csv')\n",
    "# #Summer_Fall_Parks_collections_df"
   ]
  },
  {
   "cell_type": "code",
   "execution_count": 202,
   "metadata": {},
   "outputs": [],
   "source": [
    "# I m going to use the visitor df to get some analysis \n",
    "Visitors_df.head(10)\n",
    "Visitors_df.groupby(['State','Winter']).sum()\n",
    "Visitors_df_Winter_winner_df = Visitors_df.groupby(['State','Winter']).sum() \n",
    "Visitors_df_Winter_winner_df\n",
    "#Visitors_df.groupby(['State','Winter']).mean()\n",
    "Visitors_df_Winter_winner_df.to_csv('visitors_winner_winter.csv')\n",
    "Visitors_df_Spring_winner_df = Visitors_df.groupby(['State','Spring']).sum() \n",
    "Visitors_df_Spring_winner_df.to_csv('Visitors_df_Spring_winner_Spring.csv')\n",
    "Visitors_df.groupby(['State','Summer']).sum()\n",
    "Visitors_df_Summer_winner_df = Visitors_df.groupby(['State','Summer']).sum()\n",
    "Visitors_df_Summer_winner_df.to_csv('Visitors_winner_Summer.csv')\n",
    "Visitors_df_Fall_winner_df = Visitors_df.groupby(['State','Fall']).sum()\n",
    "Visitors_df_Fall_winner_df.to_csv('Visitors_winner_Fall.csv')"
   ]
  },
  {
   "cell_type": "code",
   "execution_count": 94,
   "metadata": {},
   "outputs": [],
   "source": [
    "## We drop the Occupation column and Age columns  column \n",
    "#dropped_df = Summer_Fall_Parks_collections_df.drop(['Occupation'],axis=1)"
   ]
  },
  {
   "cell_type": "code",
   "execution_count": 100,
   "metadata": {},
   "outputs": [],
   "source": [
    "#dropped_df = dropped_df.drop(['Age'],axis=1)\n"
   ]
  },
  {
   "cell_type": "code",
   "execution_count": 102,
   "metadata": {},
   "outputs": [
    {
     "data": {
      "text/plain": [
       "(105, 12)"
      ]
     },
     "execution_count": 102,
     "metadata": {},
     "output_type": "execute_result"
    }
   ],
   "source": [
    "#dropped_df.shape"
   ]
  },
  {
   "cell_type": "code",
   "execution_count": 103,
   "metadata": {
    "scrolled": true
   },
   "outputs": [],
   "source": [
    "#set the name as the index\n",
    "#new_frame_with_park = dropped_df.set_index('Park')\n",
    "#new_frame_with_park.head(5)\n",
    "#new_frame_with_park.rename(columns={'Relationship ,Married /\n",
    "#                                                    or Single':'Relationship'}).head(2)\n",
    "#new_frame_with_park['State,USA only'] \n",
    "#new_frame_with_park.groupby([['Total Number of Reviews']"
   ]
  },
  {
   "cell_type": "code",
   "execution_count": null,
   "metadata": {
    "scrolled": true
   },
   "outputs": [],
   "source": []
  },
  {
   "cell_type": "code",
   "execution_count": null,
   "metadata": {},
   "outputs": [],
   "source": []
  }
 ],
 "metadata": {
  "kernelspec": {
   "display_name": "Python 3",
   "language": "python",
   "name": "python3"
  },
  "language_info": {
   "codemirror_mode": {
    "name": "ipython",
    "version": 3
   },
   "file_extension": ".py",
   "mimetype": "text/x-python",
   "name": "python",
   "nbconvert_exporter": "python",
   "pygments_lexer": "ipython3",
   "version": "3.6.5"
  }
 },
 "nbformat": 4,
 "nbformat_minor": 2
}
